{
 "cells": [
  {
   "cell_type": "code",
   "execution_count": 6,
   "id": "e37962eb",
   "metadata": {},
   "outputs": [
    {
     "name": "stdout",
     "output_type": "stream",
     "text": [
      "9\n",
      "1\n",
      "4\n",
      "9\n"
     ]
    }
   ],
   "source": [
    "# по данному целому n числу распечатывает квадраты натуральных чисел,\n",
    "#не превосходящие n\n",
    "n=int(input())\n",
    "i=1\n",
    "while i**2<=n:\n",
    "    print(i**2)\n",
    "    i+=1"
   ]
  },
  {
   "cell_type": "code",
   "execution_count": 13,
   "id": "1cdfcd20",
   "metadata": {},
   "outputs": [
    {
     "name": "stdout",
     "output_type": "stream",
     "text": [
      "10\n",
      "2\n"
     ]
    }
   ],
   "source": [
    "#Дано целое число не меньше2.\n",
    "# Выведите его нименьший натуральный делитель, отличный от 1.\n",
    "n=int(input())\n",
    "i=2\n",
    "while i<=n:\n",
    "    if n%i==0:\n",
    "        print (i)\n",
    "        break\n",
    "    i+=1"
   ]
  },
  {
   "cell_type": "code",
   "execution_count": 28,
   "id": "3d3d4776",
   "metadata": {},
   "outputs": [
    {
     "name": "stdout",
     "output_type": "stream",
     "text": [
      "50\n",
      "5 32\n"
     ]
    }
   ],
   "source": [
    "# По данному натуральному числу N найдите \n",
    "# наибольшую целую степень двойки, не превосходящую N. \n",
    "# Выведите показатель степени и саму степень.\n",
    "# Операцией возведения в степень пользоваться нельзя!\n",
    "n=int(input())\n",
    "i=1\n",
    "j=0\n",
    "while i<n:\n",
    "    i*=2\n",
    "    if i>n:\n",
    "        print(j, int(i/2))\n",
    "        break\n",
    "    j+=1\n",
    "else: print(j, i)"
   ]
  },
  {
   "cell_type": "code",
   "execution_count": 30,
   "id": "84867ea2",
   "metadata": {},
   "outputs": [
    {
     "name": "stdout",
     "output_type": "stream",
     "text": [
      "10\n",
      "25\n",
      "3\n"
     ]
    }
   ],
   "source": [
    "# В первый день спортсмен пробежал x километров, \n",
    "# а затем он каждый день увеличивал пробег \n",
    "# на 10% от предыдущего значения. \n",
    "# По данному числу y определите номер дня, \n",
    "# на который пробег спортсмена составит не менее y километров.\n",
    "# Программа получает на вход действительные числа x и y \n",
    "# и должна вывести одно натуральное число.\n",
    "x=int(input())\n",
    "y=int(input())\n",
    "i=1\n",
    "while x<y:\n",
    "    x*=1.1\n",
    "    i+=1\n",
    "print(i)"
   ]
  },
  {
   "cell_type": "code",
   "execution_count": 32,
   "id": "a53c2421",
   "metadata": {},
   "outputs": [
    {
     "name": "stdout",
     "output_type": "stream",
     "text": [
      "1\n",
      "7\n",
      "9\n",
      "0\n",
      "3\n"
     ]
    }
   ],
   "source": [
    "# Программа получает на вход последовательность \n",
    "# целых неотрицательных чисел, каждое число записано в отдельной\n",
    "# строке. Последовательность завершается числом 0, \n",
    "# при считывании которого программа должна закончить свою работу \n",
    "# и вывести количество членов последовательности \n",
    "# (не считая завершающего числа 0). \n",
    "# Числа, следующие за числом 0, считывать не нужно.\n",
    "i=0\n",
    "n=int(input())\n",
    "while n!=0:\n",
    "    i+=1\n",
    "    n=int(input())\n",
    "print(i)"
   ]
  },
  {
   "cell_type": "code",
   "execution_count": 34,
   "id": "087d815e",
   "metadata": {},
   "outputs": [
    {
     "name": "stdout",
     "output_type": "stream",
     "text": [
      "1\n",
      "7\n",
      "9\n",
      "0\n",
      "17\n"
     ]
    }
   ],
   "source": [
    "# Определите сумму всех элементов последовательности, \n",
    "# завершающейся числом 0. В этой и во всех следующих задачах \n",
    "# числа, следующие за первым нулем, учитывать не нужно.\n",
    "i=0\n",
    "n=int(input())\n",
    "while n!=0:\n",
    "    i+=n\n",
    "    n=int(input())\n",
    "print(i)"
   ]
  },
  {
   "cell_type": "code",
   "execution_count": 35,
   "id": "9c422395",
   "metadata": {},
   "outputs": [
    {
     "name": "stdout",
     "output_type": "stream",
     "text": [
      "1\n",
      "7\n",
      "9\n",
      "0\n",
      "5.666666666666667\n"
     ]
    }
   ],
   "source": [
    "# Определите среднее значение всех элементов последовательности,\n",
    "# завершающейся числом 0.\n",
    "i,j=0,0\n",
    "n=int(input())\n",
    "while n!=0:\n",
    "    i+=n\n",
    "    j+=1\n",
    "    n=int(input())\n",
    "print(i/j)"
   ]
  },
  {
   "cell_type": "code",
   "execution_count": 36,
   "id": "e25fabc5",
   "metadata": {},
   "outputs": [
    {
     "name": "stdout",
     "output_type": "stream",
     "text": [
      "1\n",
      "7\n",
      "9\n",
      "0\n",
      "9\n"
     ]
    }
   ],
   "source": [
    "# Последовательность состоит из натуральных чисел и завершается \n",
    "#числом 0. \n",
    "# Определите значение наибольшего элемента последовательности.\n",
    "i=0\n",
    "n=int(input())\n",
    "while n!=0:\n",
    "    if i<n:\n",
    "        i=n\n",
    "    n=int(input())\n",
    "print(i)"
   ]
  },
  {
   "cell_type": "code",
   "execution_count": 38,
   "id": "b0403427",
   "metadata": {},
   "outputs": [
    {
     "name": "stdout",
     "output_type": "stream",
     "text": [
      "1\n",
      "7\n",
      "90\n",
      "0\n",
      "2\n"
     ]
    }
   ],
   "source": [
    "# Последовательность состоит из натуральных чисел \n",
    "# и завершается числом 0. Определите индекс наибольшего элемента\n",
    "# последовательности. Если наибольших элементов несколько, \n",
    "# выведите индекс первого из них. \n",
    "# Нумерация элементов начинается с нуля.\n",
    "j=0\n",
    "max, indexmax=0,0\n",
    "n=int(input())\n",
    "while n!=0:\n",
    "    if max<n:\n",
    "        max=n\n",
    "        indexmax=j\n",
    "    n=int(input())\n",
    "    j+=1\n",
    "print(indexmax)"
   ]
  },
  {
   "cell_type": "code",
   "execution_count": 39,
   "id": "a86af094",
   "metadata": {},
   "outputs": [
    {
     "name": "stdout",
     "output_type": "stream",
     "text": [
      "2\n",
      "1\n",
      "4\n",
      "0\n",
      "2\n"
     ]
    }
   ],
   "source": [
    "# Определите количество четных элементов в последовательности, \n",
    "# завершающейся числом 0.\n",
    "i=0\n",
    "n=int(input())\n",
    "while n!=0:\n",
    "    if n%2==0:\n",
    "        i+=1\n",
    "    n=int(input())\n",
    "print(i)"
   ]
  },
  {
   "cell_type": "code",
   "execution_count": 41,
   "id": "e8414ad6",
   "metadata": {},
   "outputs": [
    {
     "name": "stdout",
     "output_type": "stream",
     "text": [
      "1\n",
      "5\n",
      "2\n",
      "4\n",
      "3\n",
      "0\n",
      "2\n"
     ]
    }
   ],
   "source": [
    "# Последовательность состоит из натуральных чисел и завершается \n",
    "# числом 0. \n",
    "# Определите, сколько элементов этой последовательности больше \n",
    "# предыдущего элемента.\n",
    "i=0\n",
    "n=int(input())\n",
    "m=n\n",
    "while n!=0:\n",
    "    if m<n:\n",
    "        i+=1\n",
    "    m=n\n",
    "    n=int(input())\n",
    "print(i)"
   ]
  },
  {
   "cell_type": "code",
   "execution_count": 79,
   "id": "17e4b525",
   "metadata": {},
   "outputs": [
    {
     "name": "stdout",
     "output_type": "stream",
     "text": [
      "1\n",
      "7\n",
      "9\n",
      "0\n",
      "7\n"
     ]
    }
   ],
   "source": [
    "# Последовательность состоит из различных натуральных чисел \n",
    "# и завершается числом 0.\n",
    "# Определите значение второго по величине элемента \n",
    "# в этой последовательности. \n",
    "# Гарантируется, что в последовательности есть хотя бы два элемента.\n",
    "first=0\n",
    "second=0\n",
    "n=int(input())\n",
    "while n!=0:\n",
    "    if first<n:\n",
    "        first=n\n",
    "    n=int(input())\n",
    "    if second<first and first<n:\n",
    "        second=first\n",
    "    elif second<first and second<n:\n",
    "        second=n\n",
    "print(second)"
   ]
  },
  {
   "cell_type": "code",
   "execution_count": 80,
   "id": "9f9da5dd",
   "metadata": {},
   "outputs": [
    {
     "name": "stdout",
     "output_type": "stream",
     "text": [
      "1\n",
      "7\n",
      "9\n",
      "0\n",
      "7\n"
     ]
    }
   ],
   "source": [
    "# Альтернативное решение посика второго по еличине элемента\n",
    "m=[]\n",
    "while 0>=0:\n",
    "    x=int(input())\n",
    "    if x==0:\n",
    "        break\n",
    "    else:\n",
    "        m.append(x)\n",
    "m.sort()\n",
    "print(m[-2])"
   ]
  },
  {
   "cell_type": "code",
   "execution_count": 84,
   "id": "935bc4ab",
   "metadata": {},
   "outputs": [
    {
     "name": "stdout",
     "output_type": "stream",
     "text": [
      "1\n",
      "2\n",
      "3\n",
      "2\n",
      "3\n",
      "3\n",
      "3\n",
      "0\n",
      "4\n"
     ]
    }
   ],
   "source": [
    "# Последовательность состоит из натуральных чисел и завершается \n",
    "# числом 0. Определите, сколько элементов этой последовательности\n",
    "#равны ее наибольшему элементу.\n",
    "element=int(input())\n",
    "i=0\n",
    "max=element\n",
    "while element!=0:\n",
    "    if max<element:\n",
    "        max=element\n",
    "        i=0\n",
    "    if element==max:\n",
    "        i+=1\n",
    "    element=int(input())\n",
    "print(i)"
   ]
  },
  {
   "cell_type": "code",
   "execution_count": 94,
   "id": "37cffef4",
   "metadata": {},
   "outputs": [
    {
     "name": "stdout",
     "output_type": "stream",
     "text": [
      "6\n",
      "8\n"
     ]
    }
   ],
   "source": [
    "# Последовательность Фибоначчи определяется так:\n",
    "# φ0 = 0,  φ1 = 1,  φn = φn−1 + φn−2.\n",
    "#По данному числу n определите n-е число Фибоначчи φn.\n",
    "#Эту задачу можно решать и циклом for.\n",
    "n=int(input())\n",
    "previos_previos_fi, previos_fi=0, 1\n",
    "if n>=3:\n",
    "    i=2\n",
    "    fi=previos_fi+previos_previos_fi\n",
    "    while i<=n:\n",
    "        i+=1\n",
    "        fi=previos_fi+previos_previos_fi\n",
    "        previos_previos_fi=previos_fi\n",
    "        previos_fi=fi \n",
    "    print('1')\n",
    "else:\n",
    "    if n==1 or n==2:\n",
    "        print('1')\n",
    "    if n==0:\n",
    "        print('0')"
   ]
  },
  {
   "cell_type": "code",
   "execution_count": 95,
   "id": "f7ab5e53",
   "metadata": {},
   "outputs": [
    {
     "name": "stdout",
     "output_type": "stream",
     "text": [
      "5\n",
      "5\n"
     ]
    }
   ],
   "source": [
    "# альтернативное решение\n",
    "n = int(input())\n",
    "if n == 0:\n",
    "    print(0)\n",
    "else:\n",
    "    a, b = 0, 1\n",
    "    for i in range(2, n + 1):\n",
    "        a, b = b, a + b\n",
    "    print(b)"
   ]
  },
  {
   "cell_type": "code",
   "execution_count": 102,
   "id": "90796281",
   "metadata": {},
   "outputs": [
    {
     "name": "stdout",
     "output_type": "stream",
     "text": [
      "7\n",
      "8\n",
      "-1\n"
     ]
    }
   ],
   "source": [
    "# Дано натуральное число A. Определите, каким по счету числом Фибоначчи \n",
    "# оно является, то есть выведите такое число n, что φn = A.\n",
    "#Если А не является числом Фибоначчи, выведите число -1.\n",
    "A = int(input())\n",
    "i=1\n",
    "if A == 0:\n",
    "    print(0)\n",
    "else:\n",
    "    a, b = 0, 1\n",
    "    while b<A:\n",
    "        a, b = b, a + b\n",
    "        i+=1\n",
    "if b==A: \n",
    "    print(i)\n",
    "else: print('-1')"
   ]
  },
  {
   "cell_type": "code",
   "execution_count": 109,
   "id": "4b51f404",
   "metadata": {},
   "outputs": [
    {
     "name": "stdout",
     "output_type": "stream",
     "text": [
      "1\n",
      "7\n",
      "7\n",
      "9\n",
      "0\n",
      "2\n"
     ]
    }
   ],
   "source": [
    "# Дана последовательность натуральных чисел, завершающаяся числом 0.\n",
    "# Определите, какое наибольшее число подряд идущих элементов этой \n",
    "# последовательности равны друг другу.\n",
    "counter=1\n",
    "max1,max2=1,1\n",
    "n=int(input())\n",
    "while n!=0:\n",
    "    a,n=n,int(input())\n",
    "    if a==n:\n",
    "        counter+=1\n",
    "    else: \n",
    "        max1=counter\n",
    "        counter=1\n",
    "    if max2<=max1:\n",
    "        max2=max1\n",
    "if max1>max2:    \n",
    "    print(max1)\n",
    "else: print(max2)"
   ]
  },
  {
   "cell_type": "code",
   "execution_count": 111,
   "id": "73565176",
   "metadata": {},
   "outputs": [
    {
     "name": "stdout",
     "output_type": "stream",
     "text": [
      "1\n",
      "7\n",
      "7\n",
      "9\n",
      "0\n",
      "2\n"
     ]
    }
   ],
   "source": [
    "#алернативное решение\n",
    "s,a = 1,[]\n",
    "m = int(input())\n",
    "while m!=0:\n",
    "    n = int(input())\n",
    "    if m==n:\n",
    "        s += 1\n",
    "    else:\n",
    "        a.append(s)\n",
    "        s = 1\n",
    "    m = n    \n",
    "print(sorted(a)[-1])"
   ]
  },
  {
   "cell_type": "code",
   "execution_count": 122,
   "id": "a486ed9f",
   "metadata": {},
   "outputs": [
    {
     "name": "stdout",
     "output_type": "stream",
     "text": [
      "1\n",
      "2\n",
      "3\n",
      "4\n",
      "0\n",
      "длинна последовательности 4\n",
      "среднее арифметическое 2.5\n",
      "стандартое отклонение 1.2909944487358056\n"
     ]
    }
   ],
   "source": [
    "# Дана последовательность натуральных чисел x1, x2, ..., xn. \n",
    "# Стандартным отклонением называется величина\n",
    "#σ=√((x1−s)2+(x2−s)2+…+(xn−s))во2степени /n−1\n",
    "#где s=x1+x2+…+xn/n — среднее арифметическое последовательности.\n",
    "# Определите стандартное отклонение для данной последовательности \n",
    "#натуральных чисел, завершающейся числом 0.\n",
    "import math\n",
    "x=[]\n",
    "n=int(input())\n",
    "sum_n=0\n",
    "sigma=0\n",
    "while n!=0:\n",
    "    x.append(n)\n",
    "    sum_n+=n\n",
    "    n=int(input())\n",
    "sum_n=sum_n/len(x)\n",
    "for i in range(0,len(x)):\n",
    "    sigma+=(x[i]-sum_n)**2\n",
    "sigma/=len(x)-1\n",
    "sigma=math.sqrt(sigma)\n",
    "#print('длинна последовательности',len(x))\n",
    "#print('среднее арифметическое',sum_n)\n",
    "print(sigma)"
   ]
  },
  {
   "cell_type": "code",
   "execution_count": 123,
   "id": "daed1be5",
   "metadata": {},
   "outputs": [
    {
     "name": "stdout",
     "output_type": "stream",
     "text": [
      "1\n",
      "4\n",
      "5\n",
      "9\n",
      "7\n",
      "0\n",
      "3.033150177620621\n"
     ]
    }
   ],
   "source": [
    "#альтернативное решение поиска стандартого отклонения\n",
    "from math import sqrt\n",
    "partial_sum = 0\n",
    "partial_sum_squares = 0\n",
    "x_i = int(input())\n",
    "n = 0\n",
    "while x_i != 0:\n",
    "    n += 1\n",
    "    partial_sum += x_i\n",
    "    partial_sum_squares += x_i ** 2\n",
    "    x_i = int(input())\n",
    "print(sqrt((partial_sum_squares - partial_sum ** 2 / n) / (n - 1)))"
   ]
  },
  {
   "cell_type": "code",
   "execution_count": 124,
   "id": "0c240f3c",
   "metadata": {},
   "outputs": [
    {
     "name": "stdout",
     "output_type": "stream",
     "text": [
      "12\n",
      "3\n",
      "8\n",
      "45\n",
      "3\n",
      "0\n",
      "17.626684316683043\n"
     ]
    }
   ],
   "source": [
    "# Поиск стандартного отклонения\n",
    "# альтернативное решение №2\n",
    "x = int(input())\n",
    "n = 0\n",
    "x1 = 0\n",
    "x2 = 0\n",
    "while x != 0:\n",
    "    x1 += x\n",
    "    x2 += x**2\n",
    "    n += 1\n",
    "    x = int(input())\n",
    "s = x1 / n\n",
    "q = (((x2 - x1**2 / n)/(n-1))** 0.5)\n",
    "print(q)"
   ]
  },
  {
   "cell_type": "code",
   "execution_count": null,
   "id": "959381aa",
   "metadata": {},
   "outputs": [],
   "source": []
  }
 ],
 "metadata": {
  "kernelspec": {
   "display_name": "Python 3",
   "language": "python",
   "name": "python3"
  },
  "language_info": {
   "codemirror_mode": {
    "name": "ipython",
    "version": 3
   },
   "file_extension": ".py",
   "mimetype": "text/x-python",
   "name": "python",
   "nbconvert_exporter": "python",
   "pygments_lexer": "ipython3",
   "version": "3.8.8"
  }
 },
 "nbformat": 4,
 "nbformat_minor": 5
}
